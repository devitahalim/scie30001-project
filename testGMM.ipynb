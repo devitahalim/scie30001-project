{
 "cells": [
  {
   "cell_type": "code",
   "execution_count": null,
   "metadata": {},
   "outputs": [],
   "source": [
    "import matplotlib.pyplot as plt\n",
    "import numpy as np\n",
    "import gaussianfunctions as gauss\n",
    "from estimationgaussian import GaussianEM_while\n",
    "from sklearn.mixture import GaussianMixture"
   ]
  },
  {
   "cell_type": "code",
   "execution_count": 2,
   "metadata": {},
   "outputs": [
    {
     "name": "stdout",
     "output_type": "stream",
     "text": [
      "[1, 2, 3, 4, 5, 6, 7, 8, 9, 10]\n"
     ]
    }
   ],
   "source": [
    "i=0\n",
    "x=1\n",
    "iter=[]\n",
    "while i<10:\n",
    "    x_new=x+1\n",
    "    i+=1\n",
    "    iter.append(i)\n",
    "print(iter)"
   ]
  },
  {
   "cell_type": "code",
   "execution_count": 2,
   "metadata": {},
   "outputs": [],
   "source": [
    "#Generate data and plot the true pdf\n",
    "data=gauss.SimulateGMM(1000,25,18,7,35)"
   ]
  },
  {
   "cell_type": "code",
   "execution_count": null,
   "metadata": {},
   "outputs": [],
   "source": [
    "#Estimate the distribution AND plot\n",
    "means,variances,n_iterations,n_components=gauss.GaussianEM(data, n_components=3)\n",
    "gauss.PlotGMM(data,means,variances,n_iterations,n_components,10)\n",
    "print(n_iterations)"
   ]
  },
  {
   "cell_type": "code",
   "execution_count": null,
   "metadata": {},
   "outputs": [],
   "source": [
    "means,variances,n_iterations=GaussianEM_while(data,2)\n",
    "print(n_iterations)\n",
    "print(means.shape)\n",
    "gauss.PlotGMM(data,means,variances,n_iterations,iter_plot=10)"
   ]
  },
  {
   "cell_type": "code",
   "execution_count": null,
   "metadata": {},
   "outputs": [],
   "source": [
    "X=gauss.SimulateGMM(1000,25,18,7,35).reshape(-1,1)\n",
    "\n",
    "# fit models with 1-10 components\n",
    "n_components=np.arange(1, 11)\n",
    "\n",
    "gmm_models=[None for k in range(len(n_components))]\n",
    "for k in range(len(n_components)):\n",
    "    gmm_models[k]=(GaussianMixture(n_components[k]).fit(X))\n",
    "\n",
    "# compute the BIC\n",
    "for models in gmm_models:\n",
    "    BIC=[models.bic(X)]\n",
    "\n",
    "print(np.gradient(BIC))\n",
    "#plt.plot(n_components,np.gradient(BIC))"
   ]
  },
  {
   "cell_type": "markdown",
   "metadata": {},
   "source": []
  }
 ],
 "metadata": {
  "kernelspec": {
   "display_name": "Python 3.10.5 64-bit",
   "language": "python",
   "name": "python3"
  },
  "language_info": {
   "codemirror_mode": {
    "name": "ipython",
    "version": 3
   },
   "file_extension": ".py",
   "mimetype": "text/x-python",
   "name": "python",
   "nbconvert_exporter": "python",
   "pygments_lexer": "ipython3",
   "version": "3.10.5"
  },
  "orig_nbformat": 4,
  "vscode": {
   "interpreter": {
    "hash": "7e1998ff7f8aa20ada591c520b972326324e5ea05489af9e422744c7c09f6dad"
   }
  }
 },
 "nbformat": 4,
 "nbformat_minor": 2
}
