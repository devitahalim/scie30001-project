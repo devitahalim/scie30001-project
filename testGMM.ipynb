{
 "cells": [
  {
   "cell_type": "code",
   "execution_count": 2,
   "metadata": {},
   "outputs": [],
   "source": [
    "from statistics import variance\n",
    "import matplotlib.pyplot as plt\n",
    "import numpy as np\n",
    "from PdfGaussian import GaussianPDF\n",
    "from SimulationOfGMM import SimulateGMM\n",
    "from EstimationGMM import GaussianEM\n",
    "from Estimation_Visualization import GaussianEMPlot\n"
   ]
  },
  {
   "cell_type": "code",
   "execution_count": null,
   "metadata": {},
   "outputs": [],
   "source": []
  }
 ],
 "metadata": {
  "kernelspec": {
   "display_name": "Python 3.10.5 ('.venv': venv)",
   "language": "python",
   "name": "python3"
  },
  "language_info": {
   "codemirror_mode": {
    "name": "ipython",
    "version": 3
   },
   "file_extension": ".py",
   "mimetype": "text/x-python",
   "name": "python",
   "nbconvert_exporter": "python",
   "pygments_lexer": "ipython3",
   "version": "3.10.5"
  },
  "orig_nbformat": 4,
  "vscode": {
   "interpreter": {
    "hash": "450f273eac723399764fd0c82444229da0316a98b9eb4cff4eab9633700753d9"
   }
  }
 },
 "nbformat": 4,
 "nbformat_minor": 2
}
